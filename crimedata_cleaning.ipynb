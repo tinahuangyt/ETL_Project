{
 "cells": [
  {
   "cell_type": "markdown",
   "metadata": {},
   "source": [
    "# Crime Data - City of chicago"
   ]
  },
  {
   "cell_type": "markdown",
   "metadata": {},
   "source": [
    "### Original data - 2001 to present (updated may 3rd 2019)\n",
    "\n",
    "https://data.cityofchicago.org/Public-Safety/Crimes-2001-to-present/ijzp-q8t2"
   ]
  },
  {
   "cell_type": "code",
   "execution_count": 2,
   "metadata": {},
   "outputs": [],
   "source": [
    "import pandas as pd"
   ]
  },
  {
   "cell_type": "code",
   "execution_count": 3,
   "metadata": {},
   "outputs": [],
   "source": [
    "crime_csv_path = \"resources/Crimes_-_2001_to_present.csv\"\n",
    "crimedata = pd.read_csv(crime_csv_path)"
   ]
  },
  {
   "cell_type": "markdown",
   "metadata": {},
   "source": [
    "Filtering for overlap years after 2013 (jan to dec) "
   ]
  },
  {
   "cell_type": "code",
   "execution_count": 6,
   "metadata": {},
   "outputs": [
    {
     "data": {
      "text/html": [
       "<div>\n",
       "<style scoped>\n",
       "    .dataframe tbody tr th:only-of-type {\n",
       "        vertical-align: middle;\n",
       "    }\n",
       "\n",
       "    .dataframe tbody tr th {\n",
       "        vertical-align: top;\n",
       "    }\n",
       "\n",
       "    .dataframe thead th {\n",
       "        text-align: right;\n",
       "    }\n",
       "</style>\n",
       "<table border=\"1\" class=\"dataframe\">\n",
       "  <thead>\n",
       "    <tr style=\"text-align: right;\">\n",
       "      <th></th>\n",
       "      <th>ID</th>\n",
       "      <th>Case Number</th>\n",
       "      <th>Date</th>\n",
       "      <th>Block</th>\n",
       "      <th>IUCR</th>\n",
       "      <th>Primary Type</th>\n",
       "      <th>Description</th>\n",
       "      <th>Location Description</th>\n",
       "      <th>Arrest</th>\n",
       "      <th>Domestic</th>\n",
       "      <th>...</th>\n",
       "      <th>Ward</th>\n",
       "      <th>Community Area</th>\n",
       "      <th>FBI Code</th>\n",
       "      <th>X Coordinate</th>\n",
       "      <th>Y Coordinate</th>\n",
       "      <th>Year</th>\n",
       "      <th>Updated On</th>\n",
       "      <th>Latitude</th>\n",
       "      <th>Longitude</th>\n",
       "      <th>Location</th>\n",
       "    </tr>\n",
       "  </thead>\n",
       "  <tbody>\n",
       "    <tr>\n",
       "      <th>0</th>\n",
       "      <td>11668131</td>\n",
       "      <td>JC240018</td>\n",
       "      <td>04/26/2019 11:58:00 PM</td>\n",
       "      <td>017XX N CENTRAL AVE</td>\n",
       "      <td>1150</td>\n",
       "      <td>DECEPTIVE PRACTICE</td>\n",
       "      <td>CREDIT CARD FRAUD</td>\n",
       "      <td>GAS STATION</td>\n",
       "      <td>False</td>\n",
       "      <td>False</td>\n",
       "      <td>...</td>\n",
       "      <td>29.0</td>\n",
       "      <td>25.0</td>\n",
       "      <td>11</td>\n",
       "      <td>1138768.0</td>\n",
       "      <td>1911350.0</td>\n",
       "      <td>2019</td>\n",
       "      <td>05/03/2019 04:14:46 PM</td>\n",
       "      <td>41.912867</td>\n",
       "      <td>-87.765636</td>\n",
       "      <td>(41.912867052, -87.765635915)</td>\n",
       "    </tr>\n",
       "    <tr>\n",
       "      <th>1</th>\n",
       "      <td>11668274</td>\n",
       "      <td>JC240043</td>\n",
       "      <td>04/26/2019 11:58:00 PM</td>\n",
       "      <td>008XX N MAY ST</td>\n",
       "      <td>0620</td>\n",
       "      <td>BURGLARY</td>\n",
       "      <td>UNLAWFUL ENTRY</td>\n",
       "      <td>APARTMENT</td>\n",
       "      <td>False</td>\n",
       "      <td>False</td>\n",
       "      <td>...</td>\n",
       "      <td>27.0</td>\n",
       "      <td>24.0</td>\n",
       "      <td>05</td>\n",
       "      <td>1168861.0</td>\n",
       "      <td>1905677.0</td>\n",
       "      <td>2019</td>\n",
       "      <td>05/03/2019 04:14:46 PM</td>\n",
       "      <td>41.896700</td>\n",
       "      <td>-87.655246</td>\n",
       "      <td>(41.896700196, -87.655246179)</td>\n",
       "    </tr>\n",
       "    <tr>\n",
       "      <th>2</th>\n",
       "      <td>11668155</td>\n",
       "      <td>JC240031</td>\n",
       "      <td>04/26/2019 11:56:00 PM</td>\n",
       "      <td>046XX N MELVINA AVE</td>\n",
       "      <td>2093</td>\n",
       "      <td>NARCOTICS</td>\n",
       "      <td>FOUND SUSPECT NARCOTICS</td>\n",
       "      <td>PARK PROPERTY</td>\n",
       "      <td>True</td>\n",
       "      <td>False</td>\n",
       "      <td>...</td>\n",
       "      <td>38.0</td>\n",
       "      <td>15.0</td>\n",
       "      <td>18</td>\n",
       "      <td>1134198.0</td>\n",
       "      <td>1930660.0</td>\n",
       "      <td>2019</td>\n",
       "      <td>05/03/2019 04:14:46 PM</td>\n",
       "      <td>41.965938</td>\n",
       "      <td>-87.781969</td>\n",
       "      <td>(41.965937596, -87.781969004)</td>\n",
       "    </tr>\n",
       "    <tr>\n",
       "      <th>3</th>\n",
       "      <td>11668197</td>\n",
       "      <td>JC240026</td>\n",
       "      <td>04/26/2019 11:51:00 PM</td>\n",
       "      <td>004XX W 83RD ST</td>\n",
       "      <td>143A</td>\n",
       "      <td>WEAPONS VIOLATION</td>\n",
       "      <td>UNLAWFUL POSS OF HANDGUN</td>\n",
       "      <td>STREET</td>\n",
       "      <td>True</td>\n",
       "      <td>False</td>\n",
       "      <td>...</td>\n",
       "      <td>21.0</td>\n",
       "      <td>71.0</td>\n",
       "      <td>15</td>\n",
       "      <td>1174909.0</td>\n",
       "      <td>1849960.0</td>\n",
       "      <td>2019</td>\n",
       "      <td>05/03/2019 04:14:46 PM</td>\n",
       "      <td>41.743674</td>\n",
       "      <td>-87.634697</td>\n",
       "      <td>(41.743674436, -87.634696986)</td>\n",
       "    </tr>\n",
       "    <tr>\n",
       "      <th>4</th>\n",
       "      <td>11668158</td>\n",
       "      <td>JC239985</td>\n",
       "      <td>04/26/2019 11:49:00 PM</td>\n",
       "      <td>049XX W JACKSON BLVD</td>\n",
       "      <td>0486</td>\n",
       "      <td>BATTERY</td>\n",
       "      <td>DOMESTIC BATTERY SIMPLE</td>\n",
       "      <td>APARTMENT</td>\n",
       "      <td>False</td>\n",
       "      <td>True</td>\n",
       "      <td>...</td>\n",
       "      <td>28.0</td>\n",
       "      <td>25.0</td>\n",
       "      <td>08B</td>\n",
       "      <td>1143691.0</td>\n",
       "      <td>1898221.0</td>\n",
       "      <td>2019</td>\n",
       "      <td>05/03/2019 04:14:46 PM</td>\n",
       "      <td>41.876749</td>\n",
       "      <td>-87.747879</td>\n",
       "      <td>(41.876748723, -87.747878888)</td>\n",
       "    </tr>\n",
       "  </tbody>\n",
       "</table>\n",
       "<p>5 rows × 22 columns</p>\n",
       "</div>"
      ],
      "text/plain": [
       "         ID Case Number                    Date                 Block  IUCR  \\\n",
       "0  11668131    JC240018  04/26/2019 11:58:00 PM   017XX N CENTRAL AVE  1150   \n",
       "1  11668274    JC240043  04/26/2019 11:58:00 PM        008XX N MAY ST  0620   \n",
       "2  11668155    JC240031  04/26/2019 11:56:00 PM   046XX N MELVINA AVE  2093   \n",
       "3  11668197    JC240026  04/26/2019 11:51:00 PM       004XX W 83RD ST  143A   \n",
       "4  11668158    JC239985  04/26/2019 11:49:00 PM  049XX W JACKSON BLVD  0486   \n",
       "\n",
       "         Primary Type               Description Location Description  Arrest  \\\n",
       "0  DECEPTIVE PRACTICE         CREDIT CARD FRAUD          GAS STATION   False   \n",
       "1            BURGLARY            UNLAWFUL ENTRY            APARTMENT   False   \n",
       "2           NARCOTICS   FOUND SUSPECT NARCOTICS        PARK PROPERTY    True   \n",
       "3   WEAPONS VIOLATION  UNLAWFUL POSS OF HANDGUN               STREET    True   \n",
       "4             BATTERY   DOMESTIC BATTERY SIMPLE            APARTMENT   False   \n",
       "\n",
       "   Domestic  ...  Ward  Community Area  FBI Code  X Coordinate Y Coordinate  \\\n",
       "0     False  ...  29.0            25.0        11     1138768.0    1911350.0   \n",
       "1     False  ...  27.0            24.0        05     1168861.0    1905677.0   \n",
       "2     False  ...  38.0            15.0        18     1134198.0    1930660.0   \n",
       "3     False  ...  21.0            71.0        15     1174909.0    1849960.0   \n",
       "4      True  ...  28.0            25.0       08B     1143691.0    1898221.0   \n",
       "\n",
       "   Year              Updated On   Latitude  Longitude  \\\n",
       "0  2019  05/03/2019 04:14:46 PM  41.912867 -87.765636   \n",
       "1  2019  05/03/2019 04:14:46 PM  41.896700 -87.655246   \n",
       "2  2019  05/03/2019 04:14:46 PM  41.965938 -87.781969   \n",
       "3  2019  05/03/2019 04:14:46 PM  41.743674 -87.634697   \n",
       "4  2019  05/03/2019 04:14:46 PM  41.876749 -87.747879   \n",
       "\n",
       "                        Location  \n",
       "0  (41.912867052, -87.765635915)  \n",
       "1  (41.896700196, -87.655246179)  \n",
       "2  (41.965937596, -87.781969004)  \n",
       "3  (41.743674436, -87.634696986)  \n",
       "4  (41.876748723, -87.747878888)  \n",
       "\n",
       "[5 rows x 22 columns]"
      ]
     },
     "execution_count": 6,
     "metadata": {},
     "output_type": "execute_result"
    }
   ],
   "source": [
    "crimedata.head()"
   ]
  },
  {
   "cell_type": "code",
   "execution_count": 7,
   "metadata": {},
   "outputs": [
    {
     "data": {
      "text/plain": [
       "'04/26/2019 11:58:00 PM'"
      ]
     },
     "execution_count": 7,
     "metadata": {},
     "output_type": "execute_result"
    }
   ],
   "source": [
    "crimedata[\"Date\"][0]"
   ]
  },
  {
   "cell_type": "code",
   "execution_count": 22,
   "metadata": {},
   "outputs": [
    {
     "data": {
      "text/plain": [
       "str"
      ]
     },
     "execution_count": 22,
     "metadata": {},
     "output_type": "execute_result"
    }
   ],
   "source": [
    "type(crimedata[\"Date\"][0])"
   ]
  },
  {
   "cell_type": "code",
   "execution_count": 12,
   "metadata": {},
   "outputs": [],
   "source": [
    "crimedata[['Date','Time','AmPm']] = crimedata.Date.str.split(expand=True)"
   ]
  },
  {
   "cell_type": "code",
   "execution_count": 20,
   "metadata": {},
   "outputs": [
    {
     "data": {
      "text/plain": [
       "'04/26/2019'"
      ]
     },
     "execution_count": 20,
     "metadata": {},
     "output_type": "execute_result"
    }
   ],
   "source": [
    "crimedata[\"Date\"][0]"
   ]
  },
  {
   "cell_type": "code",
   "execution_count": 17,
   "metadata": {},
   "outputs": [],
   "source": [
    "crimedata['Date'] = pd.to_datetime(crimedata['Date'])"
   ]
  },
  {
   "cell_type": "code",
   "execution_count": 19,
   "metadata": {},
   "outputs": [],
   "source": [
    "crimedata['Date'] = crimedata['Date'].dt.strftime('%m/%d/%Y')"
   ]
  },
  {
   "cell_type": "code",
   "execution_count": 25,
   "metadata": {},
   "outputs": [
    {
     "data": {
      "text/plain": [
       "Index(['ID', 'Case Number', 'Date', 'Block', 'IUCR', 'Primary Type',\n",
       "       'Description', 'Location Description', 'Arrest', 'Domestic', 'Beat',\n",
       "       'District', 'Ward', 'Community Area', 'FBI Code', 'X Coordinate',\n",
       "       'Y Coordinate', 'Year', 'Updated On', 'Latitude', 'Longitude',\n",
       "       'Location', 'Time', 'AmPm'],\n",
       "      dtype='object')"
      ]
     },
     "execution_count": 25,
     "metadata": {},
     "output_type": "execute_result"
    }
   ],
   "source": [
    "crimedata.columns\n"
   ]
  },
  {
   "cell_type": "code",
   "execution_count": 32,
   "metadata": {},
   "outputs": [],
   "source": [
    "clean_crime = crimedata[['ID', 'Date', 'Primary Type', 'Location Description', 'Arrest','Community Area', 'Year','Latitude', 'Longitude','Time', 'AmPm']]"
   ]
  },
  {
   "cell_type": "code",
   "execution_count": 33,
   "metadata": {},
   "outputs": [
    {
     "data": {
      "text/html": [
       "<div>\n",
       "<style scoped>\n",
       "    .dataframe tbody tr th:only-of-type {\n",
       "        vertical-align: middle;\n",
       "    }\n",
       "\n",
       "    .dataframe tbody tr th {\n",
       "        vertical-align: top;\n",
       "    }\n",
       "\n",
       "    .dataframe thead th {\n",
       "        text-align: right;\n",
       "    }\n",
       "</style>\n",
       "<table border=\"1\" class=\"dataframe\">\n",
       "  <thead>\n",
       "    <tr style=\"text-align: right;\">\n",
       "      <th></th>\n",
       "      <th>ID</th>\n",
       "      <th>Date</th>\n",
       "      <th>Primary Type</th>\n",
       "      <th>Location Description</th>\n",
       "      <th>Arrest</th>\n",
       "      <th>Community Area</th>\n",
       "      <th>Year</th>\n",
       "      <th>Latitude</th>\n",
       "      <th>Longitude</th>\n",
       "      <th>Time</th>\n",
       "      <th>AmPm</th>\n",
       "    </tr>\n",
       "  </thead>\n",
       "  <tbody>\n",
       "    <tr>\n",
       "      <th>0</th>\n",
       "      <td>11668131</td>\n",
       "      <td>04/26/2019</td>\n",
       "      <td>DECEPTIVE PRACTICE</td>\n",
       "      <td>GAS STATION</td>\n",
       "      <td>False</td>\n",
       "      <td>25.0</td>\n",
       "      <td>2019</td>\n",
       "      <td>41.912867</td>\n",
       "      <td>-87.765636</td>\n",
       "      <td>11:58:00</td>\n",
       "      <td>PM</td>\n",
       "    </tr>\n",
       "    <tr>\n",
       "      <th>1</th>\n",
       "      <td>11668274</td>\n",
       "      <td>04/26/2019</td>\n",
       "      <td>BURGLARY</td>\n",
       "      <td>APARTMENT</td>\n",
       "      <td>False</td>\n",
       "      <td>24.0</td>\n",
       "      <td>2019</td>\n",
       "      <td>41.896700</td>\n",
       "      <td>-87.655246</td>\n",
       "      <td>11:58:00</td>\n",
       "      <td>PM</td>\n",
       "    </tr>\n",
       "    <tr>\n",
       "      <th>2</th>\n",
       "      <td>11668155</td>\n",
       "      <td>04/26/2019</td>\n",
       "      <td>NARCOTICS</td>\n",
       "      <td>PARK PROPERTY</td>\n",
       "      <td>True</td>\n",
       "      <td>15.0</td>\n",
       "      <td>2019</td>\n",
       "      <td>41.965938</td>\n",
       "      <td>-87.781969</td>\n",
       "      <td>11:56:00</td>\n",
       "      <td>PM</td>\n",
       "    </tr>\n",
       "    <tr>\n",
       "      <th>3</th>\n",
       "      <td>11668197</td>\n",
       "      <td>04/26/2019</td>\n",
       "      <td>WEAPONS VIOLATION</td>\n",
       "      <td>STREET</td>\n",
       "      <td>True</td>\n",
       "      <td>71.0</td>\n",
       "      <td>2019</td>\n",
       "      <td>41.743674</td>\n",
       "      <td>-87.634697</td>\n",
       "      <td>11:51:00</td>\n",
       "      <td>PM</td>\n",
       "    </tr>\n",
       "    <tr>\n",
       "      <th>4</th>\n",
       "      <td>11668158</td>\n",
       "      <td>04/26/2019</td>\n",
       "      <td>BATTERY</td>\n",
       "      <td>APARTMENT</td>\n",
       "      <td>False</td>\n",
       "      <td>25.0</td>\n",
       "      <td>2019</td>\n",
       "      <td>41.876749</td>\n",
       "      <td>-87.747879</td>\n",
       "      <td>11:49:00</td>\n",
       "      <td>PM</td>\n",
       "    </tr>\n",
       "  </tbody>\n",
       "</table>\n",
       "</div>"
      ],
      "text/plain": [
       "         ID        Date        Primary Type Location Description  Arrest  \\\n",
       "0  11668131  04/26/2019  DECEPTIVE PRACTICE          GAS STATION   False   \n",
       "1  11668274  04/26/2019            BURGLARY            APARTMENT   False   \n",
       "2  11668155  04/26/2019           NARCOTICS        PARK PROPERTY    True   \n",
       "3  11668197  04/26/2019   WEAPONS VIOLATION               STREET    True   \n",
       "4  11668158  04/26/2019             BATTERY            APARTMENT   False   \n",
       "\n",
       "   Community Area  Year   Latitude  Longitude      Time AmPm  \n",
       "0            25.0  2019  41.912867 -87.765636  11:58:00   PM  \n",
       "1            24.0  2019  41.896700 -87.655246  11:58:00   PM  \n",
       "2            15.0  2019  41.965938 -87.781969  11:56:00   PM  \n",
       "3            71.0  2019  41.743674 -87.634697  11:51:00   PM  \n",
       "4            25.0  2019  41.876749 -87.747879  11:49:00   PM  "
      ]
     },
     "execution_count": 33,
     "metadata": {},
     "output_type": "execute_result"
    }
   ],
   "source": [
    "clean_crime.head()"
   ]
  },
  {
   "cell_type": "code",
   "execution_count": 34,
   "metadata": {},
   "outputs": [],
   "source": [
    "clean_crime.to_csv(\"resources/crime2013_2019.csv\")"
   ]
  },
  {
   "cell_type": "code",
   "execution_count": 36,
   "metadata": {},
   "outputs": [
    {
     "data": {
      "text/html": [
       "<div>\n",
       "<style scoped>\n",
       "    .dataframe tbody tr th:only-of-type {\n",
       "        vertical-align: middle;\n",
       "    }\n",
       "\n",
       "    .dataframe tbody tr th {\n",
       "        vertical-align: top;\n",
       "    }\n",
       "\n",
       "    .dataframe thead th {\n",
       "        text-align: right;\n",
       "    }\n",
       "</style>\n",
       "<table border=\"1\" class=\"dataframe\">\n",
       "  <thead>\n",
       "    <tr style=\"text-align: right;\">\n",
       "      <th></th>\n",
       "      <th>ID</th>\n",
       "      <th>Date</th>\n",
       "      <th>Primary Type</th>\n",
       "      <th>Location Description</th>\n",
       "      <th>Arrest</th>\n",
       "      <th>Community Area</th>\n",
       "      <th>Year</th>\n",
       "      <th>Latitude</th>\n",
       "      <th>Longitude</th>\n",
       "      <th>Time</th>\n",
       "      <th>AmPm</th>\n",
       "    </tr>\n",
       "  </thead>\n",
       "  <tbody>\n",
       "    <tr>\n",
       "      <th>1724687</th>\n",
       "      <td>8967398</td>\n",
       "      <td>01/01/2013</td>\n",
       "      <td>OFFENSE INVOLVING CHILDREN</td>\n",
       "      <td>RESIDENCE</td>\n",
       "      <td>False</td>\n",
       "      <td>21.0</td>\n",
       "      <td>2013</td>\n",
       "      <td>41.938124</td>\n",
       "      <td>-87.720664</td>\n",
       "      <td>12:01:00</td>\n",
       "      <td>AM</td>\n",
       "    </tr>\n",
       "    <tr>\n",
       "      <th>1724688</th>\n",
       "      <td>9266913</td>\n",
       "      <td>01/01/2013</td>\n",
       "      <td>OFFENSE INVOLVING CHILDREN</td>\n",
       "      <td>RESIDENCE</td>\n",
       "      <td>False</td>\n",
       "      <td>2.0</td>\n",
       "      <td>2013</td>\n",
       "      <td>41.992895</td>\n",
       "      <td>-87.688514</td>\n",
       "      <td>12:01:00</td>\n",
       "      <td>AM</td>\n",
       "    </tr>\n",
       "    <tr>\n",
       "      <th>1724689</th>\n",
       "      <td>9538643</td>\n",
       "      <td>01/01/2013</td>\n",
       "      <td>DECEPTIVE PRACTICE</td>\n",
       "      <td>RESIDENCE</td>\n",
       "      <td>False</td>\n",
       "      <td>69.0</td>\n",
       "      <td>2013</td>\n",
       "      <td>41.757547</td>\n",
       "      <td>-87.636603</td>\n",
       "      <td>12:01:00</td>\n",
       "      <td>AM</td>\n",
       "    </tr>\n",
       "    <tr>\n",
       "      <th>1724690</th>\n",
       "      <td>9724847</td>\n",
       "      <td>01/01/2013</td>\n",
       "      <td>DECEPTIVE PRACTICE</td>\n",
       "      <td>RESIDENCE</td>\n",
       "      <td>False</td>\n",
       "      <td>70.0</td>\n",
       "      <td>2013</td>\n",
       "      <td>41.745366</td>\n",
       "      <td>-87.707153</td>\n",
       "      <td>12:01:00</td>\n",
       "      <td>AM</td>\n",
       "    </tr>\n",
       "    <tr>\n",
       "      <th>1724691</th>\n",
       "      <td>8958548</td>\n",
       "      <td>01/01/2013</td>\n",
       "      <td>THEFT</td>\n",
       "      <td>APARTMENT</td>\n",
       "      <td>False</td>\n",
       "      <td>14.0</td>\n",
       "      <td>2013</td>\n",
       "      <td>41.970676</td>\n",
       "      <td>-87.717097</td>\n",
       "      <td>12:01:00</td>\n",
       "      <td>AM</td>\n",
       "    </tr>\n",
       "  </tbody>\n",
       "</table>\n",
       "</div>"
      ],
      "text/plain": [
       "              ID        Date                Primary Type Location Description  \\\n",
       "1724687  8967398  01/01/2013  OFFENSE INVOLVING CHILDREN            RESIDENCE   \n",
       "1724688  9266913  01/01/2013  OFFENSE INVOLVING CHILDREN            RESIDENCE   \n",
       "1724689  9538643  01/01/2013          DECEPTIVE PRACTICE            RESIDENCE   \n",
       "1724690  9724847  01/01/2013          DECEPTIVE PRACTICE            RESIDENCE   \n",
       "1724691  8958548  01/01/2013                       THEFT            APARTMENT   \n",
       "\n",
       "         Arrest  Community Area  Year   Latitude  Longitude      Time AmPm  \n",
       "1724687   False            21.0  2013  41.938124 -87.720664  12:01:00   AM  \n",
       "1724688   False             2.0  2013  41.992895 -87.688514  12:01:00   AM  \n",
       "1724689   False            69.0  2013  41.757547 -87.636603  12:01:00   AM  \n",
       "1724690   False            70.0  2013  41.745366 -87.707153  12:01:00   AM  \n",
       "1724691   False            14.0  2013  41.970676 -87.717097  12:01:00   AM  "
      ]
     },
     "execution_count": 36,
     "metadata": {},
     "output_type": "execute_result"
    }
   ],
   "source": [
    "clean_crime.tail()"
   ]
  },
  {
   "cell_type": "code",
   "execution_count": null,
   "metadata": {},
   "outputs": [],
   "source": []
  }
 ],
 "metadata": {
  "kernelspec": {
   "display_name": "Python 3",
   "language": "python",
   "name": "python3"
  },
  "language_info": {
   "codemirror_mode": {
    "name": "ipython",
    "version": 3
   },
   "file_extension": ".py",
   "mimetype": "text/x-python",
   "name": "python",
   "nbconvert_exporter": "python",
   "pygments_lexer": "ipython3",
   "version": "3.7.1"
  }
 },
 "nbformat": 4,
 "nbformat_minor": 2
}
